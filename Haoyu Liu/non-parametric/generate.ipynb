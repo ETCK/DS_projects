{
 "cells": [
  {
   "cell_type": "code",
   "execution_count": 1,
   "metadata": {},
   "outputs": [
    {
     "name": "stdout",
     "output_type": "stream",
     "text": [
      "Data saved to mann_whitney_dataset.csv\n"
     ]
    }
   ],
   "source": [
    "import numpy as np\n",
    "import pandas as pd\n",
    "\n",
    "# Original data\n",
    "data1 = [0.873, 2.817, 0.121, -0.945, -0.055, -1.436, 0.360, -1.478, -1.637, -1.869]\n",
    "data2 = [1.142, -0.432, -0.938, -0.729, -0.846, -0.157, 0.500, 1.183, -1.075, -0.169]\n",
    "\n",
    "# Calculate mean and standard deviation for each original dataset\n",
    "mean1, std1 = np.mean(data1), np.std(data1, ddof=1)  # using sample standard deviation (ddof=1)\n",
    "mean2, std2 = np.mean(data2), np.std(data2, ddof=1)\n",
    "\n",
    "# Set the number of additional data points\n",
    "num_additional_data = 40  # for example\n",
    "\n",
    "# Generate more data based on the original data's distribution\n",
    "additional_data1 = np.random.normal(mean1, std1, num_additional_data)\n",
    "additional_data2 = np.random.normal(mean2, std2, num_additional_data)\n",
    "\n",
    "# Combine the original data with the new generated data\n",
    "combined_data1 = np.concatenate((data1, additional_data1))\n",
    "combined_data2 = np.concatenate((data2, additional_data2))\n",
    "\n",
    "# Create a DataFrame\n",
    "df = pd.DataFrame({'Group1': combined_data1, 'Group2': combined_data2})\n",
    "\n",
    "# Save the DataFrame to a CSV file\n",
    "csv_file_name = 'mann_whitney_dataset.csv'\n",
    "df.to_csv(csv_file_name, index=False)\n",
    "\n",
    "print(f'Data saved to {csv_file_name}')\n"
   ]
  },
  {
   "cell_type": "code",
   "execution_count": null,
   "metadata": {},
   "outputs": [],
   "source": []
  }
 ],
 "metadata": {
  "kernelspec": {
   "display_name": "base",
   "language": "python",
   "name": "python3"
  },
  "language_info": {
   "codemirror_mode": {
    "name": "ipython",
    "version": 3
   },
   "file_extension": ".py",
   "mimetype": "text/x-python",
   "name": "python",
   "nbconvert_exporter": "python",
   "pygments_lexer": "ipython3",
   "version": "3.9.13"
  }
 },
 "nbformat": 4,
 "nbformat_minor": 2
}
