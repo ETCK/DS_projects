{
 "cells": [
  {
   "cell_type": "markdown",
   "metadata": {},
   "source": [
    "# Required packages:"
   ]
  },
  {
   "cell_type": "code",
   "execution_count": 1,
   "metadata": {},
   "outputs": [],
   "source": [
    "from prompt.DA import *"
   ]
  },
  {
   "cell_type": "code",
   "execution_count": 5,
   "metadata": {},
   "outputs": [
    {
     "name": "stdout",
     "output_type": "stream",
     "text": [
      "Here is my project requirement: In this project, we will analysis the data of real estate. We will decide what is the best regression model on this data set, and what predictors will infect the house price per unit area in Sindian District of NewTaipei City. We will use the exploratory analysis to find potential predictors and check data structure, and then present several linear regression models and do the model selection. Hypothesis testing will be conducted to evaluate the assumptions of the listed linear regression models. Then we discuss the test results for the assumptions and the validity of each model. Finally, we will use the best model to predict the house price per unit area in Sindian District of NewTaipei City.\n",
      "\n",
      "Please tell me what type of project it is, and only output the project type.\n",
      "\n",
      "If the type is other, please output \"other: xxx\" where xxx is the type.\n",
      "\n",
      "You can choose from the following options:\n",
      "\n",
      "Regression, Classification, ANOVA, Clustering, Time Series, Association Rules, NLP, Recommender System, Dimension Reduction, Survival Analysis, Longitudinal Analysis, Other\n",
      "\n"
     ]
    }
   ],
   "source": [
    "project_requirement = \"\"\"In this project, we will analysis the data of real estate. We will decide what is the best regression model on this data set, and what predictors will infect the house price per unit area in Sindian District of NewTaipei City. We will use the exploratory analysis to find potential predictors and check data structure, and then present several linear regression models and do the model selection. Hypothesis testing will be conducted to evaluate the assumptions of the listed linear regression models. Then we discuss the test results for the assumptions and the validity of each model. Finally, we will use the best model to predict the house price per unit area in Sindian District of NewTaipei City.\"\"\"\n",
    "\n",
    "file_info = 'Real estate valuation data set.xlsx'\n",
    "\n",
    "print(PROJECT_TYPE_SELECTOR_PROMPT.format(\n",
    "    project_requirement=project_requirement,\n",
    "))\n",
    "\n",
    "GPT_output_PROJECT_TYPE_SELECTOR = \"Regression\""
   ]
  },
  {
   "cell_type": "code",
   "execution_count": 7,
   "metadata": {},
   "outputs": [
    {
     "name": "stdout",
     "output_type": "stream",
     "text": [
      "The schema dictionary uses DataFrame column names as keys. For numeric columns, the value is another dictionary detailing its type, min, and max values; for string columns, the value is simply string; and for others, it's the datatype as a string.\n",
      "{'No': {'type': 'int64', 'min': 1, 'max': 414}, 'X1 transaction date': {'type': 'float64', 'min': 2012.6666667, 'max': 2013.5833333}, 'X2 house age': {'type': 'float64', 'min': 0.0, 'max': 43.8}, 'X3 distance to the nearest MRT station': {'type': 'float64', 'min': 23.38284, 'max': 6488.021}, 'X4 number of convenience stores': {'type': 'int64', 'min': 0, 'max': 10}, 'X5 latitude': {'type': 'float64', 'min': 24.93207, 'max': 25.01459}, 'X6 longitude': {'type': 'float64', 'min': 121.47353, 'max': 121.56627}, 'Y house price of unit area': {'type': 'float64', 'min': 7.6, 'max': 117.5}}\n",
      "The sample of the data:\n",
      "   No  X1 transaction date  X2 house age  \\\n",
      "0   1          2012.916667          32.0   \n",
      "1   2          2012.916667          19.5   \n",
      "2   3          2013.583333          13.3   \n",
      "\n",
      "   X3 distance to the nearest MRT station  X4 number of convenience stores  \\\n",
      "0                                84.87882                               10   \n",
      "1                               306.59470                                9   \n",
      "2                               561.98450                                5   \n",
      "\n",
      "   X5 latitude  X6 longitude  Y house price of unit area  \n",
      "0     24.98298     121.54024                        37.9  \n",
      "1     24.98034     121.53951                        42.2  \n",
      "2     24.98746     121.54391                        47.3  \n"
     ]
    }
   ],
   "source": [
    "# Step 0: Get data schema (XLSX version)\n",
    "#print(GET_DATA_SCHEMA_CODE_TEMPLATE_EXCEL.format(file_path = file_info))\n",
    "import pandas as pd\n",
    "import json\n",
    "\n",
    "df = pd.read_excel(file_info)\n",
    "\n",
    "schema = {}\n",
    "for column in df.columns:\n",
    "    dtype = str(df[column].dtype)\n",
    "    if dtype == \"object\":\n",
    "        dtype_detail = \"string\"\n",
    "    elif \"int\" in dtype or \"float\" in dtype:\n",
    "        dtype_detail = {\n",
    "            \"type\": dtype,\n",
    "            \"min\": df[column].min(),\n",
    "            \"max\": df[column].max()\n",
    "        }\n",
    "    else:\n",
    "        dtype_detail = dtype\n",
    "\n",
    "    schema[column] = dtype_detail\n",
    "\n",
    "schema_str = str(schema)\n",
    "\n",
    "print(\"The schema dictionary uses DataFrame column names as keys. For numeric columns, the value is another dictionary detailing its type, min, and max values; for string columns, the value is simply string; and for others, it's the datatype as a string.\")\n",
    "print(schema_str)\n",
    "print(\"The sample of the data:\")\n",
    "print(df.head(3))"
   ]
  },
  {
   "cell_type": "code",
   "execution_count": 8,
   "metadata": {},
   "outputs": [],
   "source": [
    "data_schema = \"\"\"The schema dictionary uses DataFrame column names as keys. For numeric columns, the value is another dictionary detailing its type, min, and max values; for string columns, the value is simply string; and for others, it's the datatype as a string.\n",
    "{'No': {'type': 'int64', 'min': 1, 'max': 414}, 'X1 transaction date': {'type': 'float64', 'min': 2012.6666667, 'max': 2013.5833333}, 'X2 house age': {'type': 'float64', 'min': 0.0, 'max': 43.8}, 'X3 distance to the nearest MRT station': {'type': 'float64', 'min': 23.38284, 'max': 6488.021}, 'X4 number of convenience stores': {'type': 'int64', 'min': 0, 'max': 10}, 'X5 latitude': {'type': 'float64', 'min': 24.93207, 'max': 25.01459}, 'X6 longitude': {'type': 'float64', 'min': 121.47353, 'max': 121.56627}, 'Y house price of unit area': {'type': 'float64', 'min': 7.6, 'max': 117.5}}\n",
    "The sample of the data:\n",
    "   No  X1 transaction date  X2 house age  \\\n",
    "0   1          2012.916667          32.0   \n",
    "1   2          2012.916667          19.5   \n",
    "2   3          2013.583333          13.3   \n",
    "\n",
    "   X3 distance to the nearest MRT station  X4 number of convenience stores  \\\n",
    "0                                84.87882                               10   \n",
    "1                               306.59470                                9   \n",
    "2                               561.98450                                5   \n",
    "\n",
    "   X5 latitude  X6 longitude  Y house price of unit area  \n",
    "0     24.98298     121.54024                        37.9  \n",
    "1     24.98034     121.53951                        42.2  \n",
    "2     24.98746     121.54391                        47.3  \"\"\""
   ]
  },
  {
   "cell_type": "code",
   "execution_count": 9,
   "metadata": {},
   "outputs": [
    {
     "name": "stdout",
     "output_type": "stream",
     "text": [
      "\n",
      "Here is my project requirement: In this project, we will analysis the data of real estate. We will decide what is the best regression model on this data set, and what predictors will infect the house price per unit area in Sindian District of NewTaipei City. We will use the exploratory analysis to find potential predictors and check data structure, and then present several linear regression models and do the model selection. Hypothesis testing will be conducted to evaluate the assumptions of the listed linear regression models. Then we discuss the test results for the assumptions and the validity of each model. Finally, we will use the best model to predict the house price per unit area in Sindian District of NewTaipei City.\n",
      "\n",
      "Here is my data schema: The schema dictionary uses DataFrame column names as keys. For numeric columns, the value is another dictionary detailing its type, min, and max values; for string columns, the value is simply string; and for others, it's the datatype as a string.\n",
      "{'No': {'type': 'int64', 'min': 1, 'max': 414}, 'X1 transaction date': {'type': 'float64', 'min': 2012.6666667, 'max': 2013.5833333}, 'X2 house age': {'type': 'float64', 'min': 0.0, 'max': 43.8}, 'X3 distance to the nearest MRT station': {'type': 'float64', 'min': 23.38284, 'max': 6488.021}, 'X4 number of convenience stores': {'type': 'int64', 'min': 0, 'max': 10}, 'X5 latitude': {'type': 'float64', 'min': 24.93207, 'max': 25.01459}, 'X6 longitude': {'type': 'float64', 'min': 121.47353, 'max': 121.56627}, 'Y house price of unit area': {'type': 'float64', 'min': 7.6, 'max': 117.5}}\n",
      "The sample of the data:\n",
      "   No  X1 transaction date  X2 house age  0   1          2012.916667          32.0   \n",
      "1   2          2012.916667          19.5   \n",
      "2   3          2013.583333          13.3   \n",
      "\n",
      "   X3 distance to the nearest MRT station  X4 number of convenience stores  0                                84.87882                               10   \n",
      "1                               306.59470                                9   \n",
      "2                               561.98450                                5   \n",
      "\n",
      "   X5 latitude  X6 longitude  Y house price of unit area  \n",
      "0     24.98298     121.54024                        37.9  \n",
      "1     24.98034     121.53951                        42.2  \n",
      "2     24.98746     121.54391                        47.3  \n",
      "\n",
      "My project will have several steps, and it will be a regression analysis.\n",
      "\n",
      "Now you need to help me plan what's the specific plan of each part of the project. Your output should be this format:\n",
      "\n",
      "---\n",
      "\n",
      "# Step i\n",
      "\n",
      "plan for step i\n",
      "\n",
      "---\n",
      "\n",
      "Please only output the plan of each step.\n",
      "\n",
      "\n"
     ]
    }
   ],
   "source": [
    "# Step 0: Planner\n",
    "print(\n",
    "    PLANNER_PROMPT[GPT_output_PROJECT_TYPE_SELECTOR].format(\n",
    "        data_schema = data_schema,\n",
    "        project_requirement = project_requirement,\n",
    ")\n",
    ")"
   ]
  },
  {
   "cell_type": "code",
   "execution_count": null,
   "metadata": {},
   "outputs": [],
   "source": [
    "planner_output = \"\"\"Certainly! Here's a step-by-step plan for your project:\n",
    "\n",
    "---\n",
    "\n",
    "# Step 1: Data Pre-processing\n",
    "\n",
    "1. Load the data into a DataFrame.\n",
    "2. Check for any missing values. If any are found, decide on a method to handle them (e.g., imputation, removal).\n",
    "3. Convert data types if necessary (ensure that they match the schema).\n",
    "4. Normalize the data for \"X1 transaction date\" as it's in a different format, making it easier to understand and work with.\n",
    "5. Create a new DataFrame without the \"No\" column, as it seems to be just an identifier.\n",
    "\n",
    "---\n",
    "\n",
    "# Step 2: Exploratory Data Analysis (EDA)\n",
    "\n",
    "1. Visualize distributions of numeric columns using histograms.\n",
    "2. Use scatterplots to see relationships between predictors and the target variable, \"Y house price of unit area.\"\n",
    "3. Calculate correlation coefficients to measure linear relationships between predictors and the target variable.\n",
    "4. Use box plots or violin plots to visualize categorical data (e.g., \"X4 number of convenience stores\").\n",
    "5. Visualize data on maps using \"X5 latitude\" and \"X6 longitude\" to see if there's a spatial trend in house prices.\n",
    "\n",
    "---\n",
    "\n",
    "# Step 3: Linear Regression Models\n",
    "\n",
    "1. Split the data into training and testing sets.\n",
    "2. Start with a simple linear regression model using one predictor and then incrementally add more predictors.\n",
    "3. Use methods like backward elimination or forward selection to decide on the best set of predictors.\n",
    "4. Check and interpret the coefficients, p-values, and R-squared value of each model.\n",
    "\n",
    "---\n",
    "\n",
    "# Step 4: Model Assumptions and Hypothesis Testing\n",
    "\n",
    "1. Check for linearity: Ensure that the relationship between predictors and the target variable is linear.\n",
    "2. Check for independence: Ensure that residuals are independent.\n",
    "3. Check for homoscedasticity: Ensure that the residuals have constant variance.\n",
    "4. Check for normality: Ensure that the residuals are normally distributed.\n",
    "5. If any assumptions are violated, consider transforming the data or using a different regression technique.\n",
    "\n",
    "---\n",
    "\n",
    "# Step 5: Model Selection\n",
    "\n",
    "1. Compare models using criteria like Adjusted R-squared, Mean Squared Error (MSE), and Akaike Information Criterion (AIC).\n",
    "2. Cross-validate models to ensure that they perform well on different subsets of the data.\n",
    "3. Select the model that offers the best balance between simplicity (fewer predictors) and predictive power.\n",
    "\n",
    "---\n",
    "\n",
    "# Step 6: Model Validation and Prediction\n",
    "\n",
    "1. Use the best model to predict \"Y house price of unit area\" on the test set.\n",
    "2. Compare predictions with actual values using visualization (e.g., scatterplot of actual vs. predicted values) and metrics (e.g., MSE, R-squared).\n",
    "3. Evaluate the validity of the model by checking its performance on the test data.\n",
    "\n",
    "---\n",
    "\n",
    "# Step 7: Conclusion and Recommendations\n",
    "\n",
    "1. Summarize the findings of the analysis.\n",
    "2. Discuss the implications of the predictors on the house price per unit area in Sindian District of NewTaipei City.\n",
    "3. Offer recommendations for stakeholders or potential homeowners based on the model's results.\n",
    "\n",
    "---\n",
    "\n",
    "Remember to always keep in mind the goal of the analysis: to predict the house price per unit area in Sindian District of NewTaipei City using the best regression model. This will guide your decisions throughout the project.\"\"\""
   ]
  }
 ],
 "metadata": {
  "kernelspec": {
   "display_name": "pytorch",
   "language": "python",
   "name": "python3"
  },
  "language_info": {
   "codemirror_mode": {
    "name": "ipython",
    "version": 3
   },
   "file_extension": ".py",
   "mimetype": "text/x-python",
   "name": "python",
   "nbconvert_exporter": "python",
   "pygments_lexer": "ipython3",
   "version": "3.11.0"
  },
  "orig_nbformat": 4
 },
 "nbformat": 4,
 "nbformat_minor": 2
}
